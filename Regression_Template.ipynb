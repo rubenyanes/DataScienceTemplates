{
 "cells": [
  {
   "cell_type": "markdown",
   "id": "8344c78b",
   "metadata": {},
   "source": [
    "# Regression Template\n"
   ]
  },
  {
   "cell_type": "markdown",
   "id": "29f87b5c",
   "metadata": {},
   "source": [
    "## Import the libraries\n",
    "This is a common step for all the models"
   ]
  },
  {
   "cell_type": "code",
   "execution_count": null,
   "id": "3c1d383c",
   "metadata": {},
   "outputs": [],
   "source": [
    "import numpy as np\n",
    "import matplotlib.pyplot as plt\n",
    "import pandas as pd"
   ]
  },
  {
   "cell_type": "markdown",
   "id": "d28ad710",
   "metadata": {},
   "source": [
    "## Import the dataset"
   ]
  },
  {
   "cell_type": "markdown",
   "id": "6833e38a",
   "metadata": {},
   "source": [
    "This is an example of import a csv, only as a step to follow. We have to assing values to X (independent variables) and to y (dependent variables we want to predict)"
   ]
  },
  {
   "cell_type": "code",
   "execution_count": null,
   "id": "b913913e",
   "metadata": {},
   "outputs": [],
   "source": [
    "dataset = pd.read_csv('Data.csv')\n",
    "X = dataset.iloc[:, :-1].values #assign values to X\n",
    "y = dataset.iloc[:, -1].values #assign values to y"
   ]
  },
  {
   "cell_type": "markdown",
   "id": "a83227cc",
   "metadata": {},
   "source": [
    "## Preprocessing steps!\n",
    "In this step you may have to preprocess the data in order to obtain a clean dataframe to use"
   ]
  },
  {
   "cell_type": "markdown",
   "id": "01ba0b7e",
   "metadata": {},
   "source": [
    "## Split the dataset into the Training set and Test set"
   ]
  },
  {
   "cell_type": "code",
   "execution_count": null,
   "id": "48f1cf96",
   "metadata": {},
   "outputs": [],
   "source": [
    "from sklearn.model_selection import train_test_split\n",
    "X_train, X_test, y_train, y_test = train_test_split(X, y, test_size = 0.2, random_state = 0) #20% of the data for the test"
   ]
  },
  {
   "cell_type": "markdown",
   "id": "26215bb6",
   "metadata": {},
   "source": [
    "## Regression models"
   ]
  },
  {
   "cell_type": "markdown",
   "id": "07618560",
   "metadata": {},
   "source": [
    "### Multiple and Simple Linear Regression"
   ]
  },
  {
   "cell_type": "markdown",
   "id": "2d99c179",
   "metadata": {},
   "source": [
    "The code is the same for both, Multiple and Linear Regression, the use of more than 1 independent variable change from linear to multiple"
   ]
  },
  {
   "cell_type": "code",
   "execution_count": null,
   "id": "6caf5398",
   "metadata": {},
   "outputs": [],
   "source": [
    "#training the model\n",
    "from sklearn.linear_model import LinearRegression\n",
    "regressor = LinearRegression()\n",
    "regressor.fit(X_train, y_train)"
   ]
  },
  {
   "cell_type": "code",
   "execution_count": null,
   "id": "904870d2",
   "metadata": {},
   "outputs": [],
   "source": [
    "#predict results\n",
    "y_pred = regressor.predict(X_test) #vector"
   ]
  },
  {
   "cell_type": "code",
   "execution_count": null,
   "id": "33826672",
   "metadata": {},
   "outputs": [],
   "source": [
    "#predict results\n",
    "regressor.predict([[value]]) #value"
   ]
  },
  {
   "cell_type": "code",
   "execution_count": null,
   "id": "a95395ca",
   "metadata": {},
   "outputs": [],
   "source": [
    "#evaluate the performance\n",
    "from sklearn.metrics import r2_score\n",
    "r2_score(y_test, y_pred)"
   ]
  },
  {
   "cell_type": "markdown",
   "id": "1bbb626b",
   "metadata": {},
   "source": [
    "### Polynomial Regression"
   ]
  },
  {
   "cell_type": "code",
   "execution_count": null,
   "id": "9d117ec1",
   "metadata": {},
   "outputs": [],
   "source": [
    "#training the model\n",
    "from sklearn.preprocessing import PolynomialFeatures\n",
    "from sklearn.linear_model import LinearRegression\n",
    "poly_reg = PolynomialFeatures(degree = 4)\n",
    "X_poly = poly_reg.fit_transform(X_train)\n",
    "regressor = LinearRegression()\n",
    "regressor.fit(X_poly, y_train)"
   ]
  },
  {
   "cell_type": "code",
   "execution_count": null,
   "id": "e0433d3c",
   "metadata": {},
   "outputs": [],
   "source": [
    "#predict results\n",
    "y_pred = regressor.predict(poly_reg.transform(X_test))"
   ]
  },
  {
   "cell_type": "code",
   "execution_count": null,
   "id": "02b8ae81",
   "metadata": {},
   "outputs": [],
   "source": [
    "#evaluate the performance\n",
    "from sklearn.metrics import r2_score\n",
    "r2_score(y_test, y_pred)"
   ]
  },
  {
   "cell_type": "markdown",
   "id": "9a30a52d",
   "metadata": {},
   "source": [
    "### Support Vector Regression"
   ]
  },
  {
   "cell_type": "code",
   "execution_count": null,
   "id": "d33e2e71",
   "metadata": {},
   "outputs": [],
   "source": [
    "#feature scaling should be required\n",
    "from sklearn.preprocessing import StandardScaler\n",
    "sc_X = StandardScaler()\n",
    "sc_y = StandardScaler()\n",
    "X = sc_X.fit_transform(X)\n",
    "y = sc_y.fit_transform(y)"
   ]
  },
  {
   "cell_type": "code",
   "execution_count": null,
   "id": "3c6c95b3",
   "metadata": {},
   "outputs": [],
   "source": [
    "#training the model\n",
    "from sklearn.svm import SVR\n",
    "regressor = SVR(kernel = 'rbf')\n",
    "regressor.fit(X_train, y_train)"
   ]
  },
  {
   "cell_type": "code",
   "execution_count": null,
   "id": "2b1f5535",
   "metadata": {},
   "outputs": [],
   "source": [
    "#predict results with feature scaling \n",
    "sc_y.inverse_transform(regressor.predict(sc_X.transform([[1]]))) #value"
   ]
  },
  {
   "cell_type": "code",
   "execution_count": null,
   "id": "73db0f20",
   "metadata": {},
   "outputs": [],
   "source": [
    "#predict results\n",
    "y_pred = sc_y.inverse_transform(regressor.predict(sc_X.transform(X_test))) #vector"
   ]
  },
  {
   "cell_type": "code",
   "execution_count": null,
   "id": "e3cfb441",
   "metadata": {},
   "outputs": [],
   "source": [
    "#evaluate the performance\n",
    "from sklearn.metrics import r2_score\n",
    "r2_score(y_test, y_pred)"
   ]
  },
  {
   "cell_type": "markdown",
   "id": "c698467d",
   "metadata": {},
   "source": [
    "### Decision Tree Regression"
   ]
  },
  {
   "cell_type": "code",
   "execution_count": null,
   "id": "172d80a7",
   "metadata": {},
   "outputs": [],
   "source": [
    "#training the model\n",
    "from sklearn.tree import DecisionTreeRegressor\n",
    "regressor = DecisionTreeRegressor(random_state = 0)\n",
    "regressor.fit(X_train, y_train)"
   ]
  },
  {
   "cell_type": "code",
   "execution_count": null,
   "id": "ec8c961e",
   "metadata": {},
   "outputs": [],
   "source": [
    "#predict results\n",
    "y_pred = regressor.predict(X_test)"
   ]
  },
  {
   "cell_type": "code",
   "execution_count": null,
   "id": "b10e8a19",
   "metadata": {},
   "outputs": [],
   "source": [
    "#evaluate the performance\n",
    "from sklearn.metrics import r2_score\n",
    "r2_score(y_test, y_pred)"
   ]
  },
  {
   "cell_type": "markdown",
   "id": "1a5122d7",
   "metadata": {},
   "source": [
    "### Random Forest Regression"
   ]
  },
  {
   "cell_type": "code",
   "execution_count": null,
   "id": "eeb6f597",
   "metadata": {},
   "outputs": [],
   "source": [
    "#training the model\n",
    "from sklearn.ensemble import RandomForestRegressor\n",
    "regressor = RandomForestRegressor(n_estimators = 10, random_state = 0)\n",
    "regressor.fit(X_train, y_train)"
   ]
  },
  {
   "cell_type": "code",
   "execution_count": null,
   "id": "9b95458a",
   "metadata": {},
   "outputs": [],
   "source": [
    "#predict results\n",
    "y_pred = regressor.predict(X_test)"
   ]
  },
  {
   "cell_type": "code",
   "execution_count": null,
   "id": "a97149e2",
   "metadata": {},
   "outputs": [],
   "source": [
    "#evaluate the performance\n",
    "from sklearn.metrics import r2_score\n",
    "r2_score(y_test, y_pred)"
   ]
  },
  {
   "cell_type": "markdown",
   "id": "45841072",
   "metadata": {},
   "source": [
    "### XGBoost"
   ]
  },
  {
   "cell_type": "code",
   "execution_count": null,
   "id": "a6cf3efe",
   "metadata": {},
   "outputs": [],
   "source": [
    "#training the model\n",
    "from xgboost import XGBRegressor\n",
    "regressor = XGBRegressor()\n",
    "regressor.fit(X_train, y_train)"
   ]
  },
  {
   "cell_type": "code",
   "execution_count": null,
   "id": "1232fe89",
   "metadata": {},
   "outputs": [],
   "source": [
    "#predict results\n",
    "y_pred = regressor.predict(X_test)"
   ]
  },
  {
   "cell_type": "code",
   "execution_count": null,
   "id": "8f63fddd",
   "metadata": {},
   "outputs": [],
   "source": [
    "#evaluate the performance\n",
    "from sklearn.metrics import r2_score\n",
    "r2_score(y_test, y_pred)"
   ]
  }
 ],
 "metadata": {
  "kernelspec": {
   "display_name": "Python 3 (ipykernel)",
   "language": "python",
   "name": "python3"
  },
  "language_info": {
   "codemirror_mode": {
    "name": "ipython",
    "version": 3
   },
   "file_extension": ".py",
   "mimetype": "text/x-python",
   "name": "python",
   "nbconvert_exporter": "python",
   "pygments_lexer": "ipython3",
   "version": "3.9.7"
  }
 },
 "nbformat": 4,
 "nbformat_minor": 5
}
